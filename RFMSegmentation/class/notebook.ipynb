{
 "cells": [
  {
   "cell_type": "markdown",
   "metadata": {},
   "source": [
    "## **Clase para la construcción de la Segmentación RFM**"
   ]
  },
  {
   "cell_type": "code",
   "execution_count": 1,
   "metadata": {},
   "outputs": [],
   "source": [
    "import pandas as pd\n",
    "import numpy as np"
   ]
  },
  {
   "cell_type": "code",
   "execution_count": 2,
   "metadata": {},
   "outputs": [],
   "source": [
    "class RFMSegmentation:\n",
    "    \n",
    "    def __init__(self):\n",
    "        dataframe = self.dataframe\n",
    "        \n",
    "        def RFM(self, dataframe):\n",
    "            for index in dataframe.columns:\n",
    "                try:\n",
    "                    dataframe[index] = pd.to_numeric(dataframe[index])\n",
    "                    if not pd.api.types.is_numeric_dtype(dataframe[index]):\n",
    "                        raise ValueError(f'La columna {index} no es del tipo numérico.')\n",
    "                except ValueError as e:\n",
    "                    print(\"Error\",e)\n",
    "                    print(f\"La columna {index} debe ser numérica (int o float).\")\n",
    "                \n",
    "            if isinstance(dataframe, pd.DataFrame):\n",
    "                return dataframe\n",
    "            else:\n",
    "                print(\"Verificar el tipo de dato de las columnas.\")\n",
    "                print(\"Deben ser todos numéricos.\")\n",
    "                print(\"No se acepta el tipo de valor string.\")\n",
    "                \n",
    "                "
   ]
  }
 ],
 "metadata": {
  "kernelspec": {
   "display_name": "base",
   "language": "python",
   "name": "python3"
  },
  "language_info": {
   "codemirror_mode": {
    "name": "ipython",
    "version": 3
   },
   "file_extension": ".py",
   "mimetype": "text/x-python",
   "name": "python",
   "nbconvert_exporter": "python",
   "pygments_lexer": "ipython3",
   "version": "3.9.7"
  },
  "orig_nbformat": 4
 },
 "nbformat": 4,
 "nbformat_minor": 2
}
