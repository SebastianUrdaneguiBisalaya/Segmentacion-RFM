{
 "cells": [
  {
   "cell_type": "markdown",
   "metadata": {},
   "source": [
    "## **Clase para la construcción de la Segmentación RFM**"
   ]
  },
  {
   "cell_type": "code",
   "execution_count": 66,
   "metadata": {},
   "outputs": [],
   "source": [
    "import pandas as pd\n",
    "import numpy as np\n",
    "import datetime\n",
    "from datetime import datetime\n",
    "import warnings\n",
    "warnings.filterwarnings('ignore')\n",
    "import matplotlib.pyplot as plt"
   ]
  },
  {
   "cell_type": "code",
   "execution_count": 50,
   "metadata": {},
   "outputs": [],
   "source": [
    "data = pd.read_csv(\"../../data/train.csv\")"
   ]
  },
  {
   "cell_type": "markdown",
   "metadata": {},
   "source": [
    "Debes renombrar las columnas que serán necesarias para el uso de la librería.\n",
    "Debes identificar en las columnas del dataframe que hagan referencia a la identificación del consumidor, el día en que se ejecutó la venta del producto o el día en que se generó la fecha de orden, una columna de venta total (precio por cantidad) por registro, en el caso no se cuente la columna de venta total se debe generar una columna y, por último, elegir una columna que no tenga valores nulos, puede ser la columna de identificación del registro."
   ]
  },
  {
   "cell_type": "code",
   "execution_count": null,
   "metadata": {},
   "outputs": [],
   "source": [
    "data = data.rename(columns = {\n",
    "    'Identificación del consumidor' : 'Customer ID',\n",
    "    'Día en que se ejecutó la venta' : 'Date',\n",
    "    'Venta Total' : 'Sales',\n",
    "    'Identificación del registo' : 'Order ID'\n",
    "})"
   ]
  },
  {
   "cell_type": "code",
   "execution_count": 51,
   "metadata": {},
   "outputs": [],
   "source": [
    "data[\"Order Date\"] = pd.to_datetime(data[\"Order Date\"]).dt.strftime(\"%Y%m%d\")\n",
    "data = data.rename(columns = {'Order Date':'Date'})"
   ]
  },
  {
   "cell_type": "code",
   "execution_count": 103,
   "metadata": {},
   "outputs": [],
   "source": [
    "class Segmentation:\n",
    "    def __init__(self, dataframe, day:str, positions:list, rfm, segment):\n",
    "        self.dataframe = dataframe\n",
    "        self.day = day\n",
    "        self.positions = positions\n",
    "        self.rfm = rfm\n",
    "        self.segment = segment\n",
    "        \n",
    "    def RFM(dataframe, day:str, positions:list):\n",
    "        # Apply variable type transformation from string to datetime\n",
    "        # The function a string like '20230628' with the format like 'yyyymmdd'.\n",
    "        dataframe = dataframe.iloc[:, positions]\n",
    "        \n",
    "        if isinstance(dataframe, pd.DataFrame):\n",
    "            day = datetime.strptime(day, \"%Y%m%d\")\n",
    "            dataframe[\"Date\"] = dataframe[\"Date\"].apply(lambda x : datetime.strptime(x, \"%Y%m%d\"))\n",
    "            rfm = dataframe.groupby('Customer ID').agg({\n",
    "                'Date': lambda x : (day - x.max()).days,\n",
    "                'Order ID': lambda x : len(x),\n",
    "                'Sales': lambda x : x.sum()\n",
    "            })\n",
    "            rfm.columns = [\"Recency\", \"Frequency\", \"Monetary\"]\n",
    "            \n",
    "            rfm[\"R\"] = pd.qcut(rfm[\"Recency\"], 5, labels = [5,4,3,2,1])\n",
    "            rfm[\"F\"] = pd.qcut(rfm[\"Frequency\"], 5, labels = [1,2,3,4,5])\n",
    "            rfm[\"M\"] = pd.qcut(rfm[\"Monetary\"], 5, labels = [1,2,3,4,5])\n",
    "            rfm[\"SCORE\"] = rfm[\"R\"].astype(str) + rfm[\"F\"].astype(str) + rfm[\"M\"].astype(str)\n",
    "            \n",
    "            def SEGMENTATION(row):\n",
    "                if row[\"R\"] >= 1 and row[\"R\"] <= 2 and row[\"F\"] >= 1 and row[\"F\"] <= 2:\n",
    "                    return 'Hibernating'\n",
    "                elif row[\"R\"] >= 1 and row[\"R\"] <= 2 and row[\"F\"] >= 3 and row[\"F\"] <= 4:\n",
    "                    return 'At Risk'\n",
    "                elif row[\"R\"] >= 1 and row[\"R\"] <= 2 and row[\"F\"] == 5:\n",
    "                    return 'Can\\'t looser'\n",
    "                elif row[\"R\"] >= 3 and row[\"F\"] >= 1 and row[\"F\"] <= 2:\n",
    "                    return 'About to sleep'\n",
    "                elif row[\"R\"] == 3 and row[\"F\"] == 3:\n",
    "                    return 'Need attention'\n",
    "                elif row[\"R\"] >= 3 and row[\"R\"] <= 4 and row[\"F\"] >= 4 and row[\"F\"] <= 5:\n",
    "                    return 'Loyal customers'\n",
    "                elif row[\"R\"] == 4 and row[\"F\"] == 1:\n",
    "                    return 'Promising'\n",
    "                elif row[\"R\"] == 5 and row[\"F\"] == 1:\n",
    "                    return 'New customers'\n",
    "                elif row[\"R\"] >= 4 and row[\"R\"] <= 5 and row[\"F\"] >= 2 and row[\"F\"] <= 3:\n",
    "                    return 'Potential loyalists'\n",
    "                elif row[\"R\"] == 5 and row[\"F\"] >= 4 and row[\"F\"] <= 5:\n",
    "                    return 'Champions'\n",
    "            \n",
    "            rfm[\"Segment\"] = rfm[\"R\"].astype(str) + rfm[\"F\"].astype(str)\n",
    "            rfm[\"R\"] = rfm[\"R\"].astype(int)\n",
    "            rfm[\"F\"] = rfm[\"F\"].astype(int)\n",
    "            rfm[\"Segment\"] = rfm.apply(SEGMENTATION, axis = 1)\n",
    "            \n",
    "            return rfm\n",
    "        else:\n",
    "            print(\"Verificar que el input `dataframe` sea del tipo dataframe.\")\n",
    "    \n",
    "    def RFMTable(rfm):\n",
    "        return rfm.groupby(\"Segment\").mean().sort_values(\"Monetary\", ascending = False)\n",
    "    \n",
    "    def RFMAnalysis(rfm):\n",
    "        dataplot = pd.DataFrame(rfm.groupby(\"Segment\")[\"SCORE\"].count()).apply(lambda x : round(x/len(rfm[\"SCORE\"])*100,2)).sort_values(by = \n",
    "                    \"SCORE\", ascending = True).rename(columns = {'SCORE':'Clientes (%)'})\n",
    "        fig, ax = plt.subplots(figsize = (8,6), dpi = 70)\n",
    "        dataplot.plot(ax = ax, kind = 'barh', color = 'orange')\n",
    "        ax.bar_label(ax.containers[0], fontsize = 12)\n",
    "        for i in ['bottom', 'left']:\n",
    "            ax.spines[i].set_color('black')\n",
    "            ax.spines[i].set_linewidth(1.5) \n",
    "        right_side = ax.spines[\"right\"]\n",
    "        right_side.set_visible(False)\n",
    "        top_side = ax.spines[\"top\"]\n",
    "        top_side.set_visible(False)\n",
    "        ax.set_axisbelow(True)\n",
    "        ax.grid(color='gray', linewidth=1, axis='y', alpha=0.4)\n",
    "        plt.xlabel('Porcentaje de clientes')\n",
    "        plt.ylabel('Segmento RFM')\n",
    "        plt.title(\"Porcentaje de clientes por segmento\", size = 16)\n",
    "        plt.show()\n",
    "        \n",
    "    def RFMFindClientsBySegment(rfm, segment):\n",
    "        segments = rfm[\"Segment\"].unique()\n",
    "        if segment in segments:\n",
    "            rfm = rfm.reset_index()\n",
    "            rfm = rfm[rfm[\"Segment\"] == segment]\n",
    "            return rfm\n",
    "        else:\n",
    "            print(f'''\n",
    "Por favor, inserta un segmento válido.\n",
    "Teniendo en cuenta que los segmentos válidos son \\n{\",\".join(segments)}.\n",
    "            ''')\n",
    "        "
   ]
  },
  {
   "cell_type": "code",
   "execution_count": 104,
   "metadata": {},
   "outputs": [
    {
     "data": {
      "image/png": "[encoded data removed]",
      "text/plain": [
       "<Figure size 560x420 with 1 Axes>"
      ]
     },
     "metadata": {
      "needs_background": "light"
     },
     "output_type": "display_data"
    },
    {
     "name": "stdout",
     "output_type": "stream",
     "text": [
      "\n",
      "Por favor, inserta un segmento válido.\n",
      "Teniendo en cuenta que los segmentos válidos son \n",
      "At Risk,Loyal customers,Can't looser,Hibernating,Potential loyalists,About to sleep,Champions,Need attention.\n",
      "            \n"
     ]
    }
   ],
   "source": [
    "rfm = Segmentation.RFM(data, '20190115', positions = [1,2,5,17])\n",
    "Segmentation.RFMTable(rfm)\n",
    "Segmentation.RFMAnalysis(rfm)\n",
    "Segmentation.RFMFindClientsBySegment(rfm, \"Hola\")"
   ]
  }
 ],
 "metadata": {
  "kernelspec": {
   "display_name": "base",
   "language": "python",
   "name": "python3"
  },
  "language_info": {
   "codemirror_mode": {
    "name": "ipython",
    "version": 3
   },
   "file_extension": ".py",
   "mimetype": "text/x-python",
   "name": "python",
   "nbconvert_exporter": "python",
   "pygments_lexer": "ipython3",
   "version": "3.9.7"
  },
  "orig_nbformat": 4
 },
 "nbformat": 4,
 "nbformat_minor": 2
}
