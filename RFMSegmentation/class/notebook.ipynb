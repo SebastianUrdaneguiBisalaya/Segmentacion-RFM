{
 "cells": [
  {
   "cell_type": "markdown",
   "metadata": {},
   "source": [
    "## **Clase para la construcción de la Segmentación RFM**"
   ]
  },
  {
   "cell_type": "code",
   "execution_count": 1,
   "metadata": {},
   "outputs": [],
   "source": [
    "import pandas as pd\n",
    "import numpy as np\n",
    "import datetime\n",
    "from datetime import datetime"
   ]
  },
  {
   "cell_type": "code",
   "execution_count": 2,
   "metadata": {},
   "outputs": [],
   "source": [
    "class RFMSegmentation:\n",
    "    \n",
    "    def __init__(self, dataframe, day:str):\n",
    "        self.dataframe = dataframe\n",
    "        self.day = day\n",
    "        \n",
    "    def RFM(self, dataframe, day):\n",
    "        for index in dataframe.columns:\n",
    "            try:\n",
    "                dataframe[index] = pd.to_numeric(dataframe[index])\n",
    "                if not pd.api.types.is_numeric_dtype(dataframe[index]):\n",
    "                    raise ValueError(f'La columna {index} no es del tipo numérico.')\n",
    "            except ValueError as e:\n",
    "                print(\"Error\",e)\n",
    "                print(f\"La columna {index} debe ser numérica (int o float).\")\n",
    "                \n",
    "            \n",
    "        if isinstance(dataframe, pd.DataFrame):\n",
    "            day = datetime.strptime(day, \"%Y%m%d\")\n",
    "            rfm = dataframe.groupby('Customer ID').agg({\n",
    "                'Date': lambda x : (day - x.max()).days,\n",
    "                'Order ID': lambda x : len(x),\n",
    "                'Sales': lambda x : x.sum()\n",
    "            })\n",
    "            rfm.columns = [\"Recency\", \"Frequency\", \"Monetary\"]\n",
    "            \n",
    "            rfm[\"R\"] = pd.qcut(rfm[\"Recency\"], 5, labels = [5,4,3,2,1])\n",
    "            rfm[\"F\"] = pd.qcut(rfm[\"Frequency\"], 5, labels = [1,2,3,4,5])\n",
    "            rfm[\"M\"] = pd.qcut(rfm[\"Monetary\"], 5, labels = [1,2,3,4,5])\n",
    "            rfm[\"SCORE\"] = rfm[\"R\"].astype(str) + rfm[\"F\"].astype(str) + rfm[\"M\"].astype(str)\n",
    "            \n",
    "            def SEGMENTATION(row):\n",
    "                if row[\"R\"] >= 1 and row[\"R\"] <= 2 and row[\"F\"] >= 1 and row[\"F\"] <= 2:\n",
    "                    return 'Hibernating'\n",
    "                elif row[\"R\"] >= 1 and row[\"R\"] <= 2 and row[\"F\"] >= 3 and row[\"F\"] <= 4:\n",
    "                    return 'At Risk'\n",
    "                elif row[\"R\"] >= 1 and row[\"R\"] <= 2 and row[\"F\"] == 5:\n",
    "                    return 'Can\\'t looser'\n",
    "                elif row[\"R\"] >= 3 and row[\"F\"] <= 1 and row[\"F\"] == 2:\n",
    "                    return 'About to sleep'\n",
    "                elif row[\"R\"] == 3 and row[\"F\"] == 3:\n",
    "                    return 'Need attention'\n",
    "                elif row[\"R\"] >= 3 and row[\"R\"] <= 4 and row[\"F\"] >= 4 and row[\"F\"] <= 5:\n",
    "                    return 'Loyal customers'\n",
    "                elif row[\"R\"] == 4 and row[\"F\"] == 1:\n",
    "                    return 'Promising'\n",
    "                elif row[\"R\"] == 5 and row[\"F\"] == 1:\n",
    "                    return 'New customers'\n",
    "                elif row[\"R\"] >= 4 and row[\"R\"] <= 5 and row[\"F\"] >= 2 and row[\"F\"] <= 3:\n",
    "                    return 'Potential loyalists'\n",
    "                elif row[\"R\"] == 5 and row[\"F\"] >= 4 and row[\"F\"] <= 5:\n",
    "                    return 'Champions'\n",
    "            \n",
    "            rfm[\"Segment\"] = rfm[\"R\"].astype(str) + rfm[\"F\"].astype(str)\n",
    "            rfm[\"R\"] = rfm[\"R\"].astype(int)\n",
    "            rfm[\"F\"] = rfm[\"F\"].astype(int)\n",
    "            rfm[\"Segment\"] = rfm.apply(SEGMENTATION, axis = 1)\n",
    "        else:\n",
    "            print(\"Verificar el tipo de dato de las columnas.\")\n",
    "            print(\"Deben ser todos numéricos.\")\n",
    "            print(\"No se acepta el tipo de valor string.\")\n",
    "                \n",
    "                "
   ]
  },
  {
   "cell_type": "code",
   "execution_count": null,
   "metadata": {},
   "outputs": [],
   "source": [
    "def SEGMENTATION(row):\n",
    "    if row[\"R\"] == '1' or row[\"R\"] == '2' and row[\"F\"] == '1' or row[\"F\"] == '2':\n",
    "        return 'Hibernating'\n",
    "    elif row[\"R\"] == '1' or row[\"R\"] == '2' and row[\"F\"] == '3' or row[\"F\"] == '4':\n",
    "        return 'At Risk'\n",
    "    elif row[\"R\"] == '1' or row[\"R\"] == '2' and row[\"F\"] == '5':\n",
    "        return 'Can\\'t looser'\n",
    "    elif row[\"R\"] == '3' and row[\"F\"] == '1' or row[\"F\"] == '2':\n",
    "        return 'About to sleep'\n",
    "    elif row[\"R\"] == '3' and row[\"F\"] == '3':\n",
    "        return 'Need attention'\n",
    "    elif row[\"R\"] == '3' or row[\"R\"] == '4' and row[\"F\"] == '4' or row[\"F\"] == '5':\n",
    "        return 'Loyal customers'\n",
    "    elif row[\"R\"] == '4' and row[\"F\"] == '1':\n",
    "        return 'Promising'\n",
    "    elif row[\"R\"] == '5' and row[\"F\"] == '1':\n",
    "        return 'New customers'\n",
    "    elif row[\"R\"] == '4' or row[\"R\"] == '5' and row[\"F\"] == '2' or row[\"F\"] == '3':\n",
    "        return 'Potential loyalists'\n",
    "    elif row[\"R\"] == '5' and row[\"F\"] == '4' or row[\"F\"] == '5':\n",
    "        return 'Champions'"
   ]
  }
 ],
 "metadata": {
  "kernelspec": {
   "display_name": "base",
   "language": "python",
   "name": "python3"
  },
  "language_info": {
   "codemirror_mode": {
    "name": "ipython",
    "version": 3
   },
   "file_extension": ".py",
   "mimetype": "text/x-python",
   "name": "python",
   "nbconvert_exporter": "python",
   "pygments_lexer": "ipython3",
   "version": "3.9.7"
  },
  "orig_nbformat": 4
 },
 "nbformat": 4,
 "nbformat_minor": 2
}
