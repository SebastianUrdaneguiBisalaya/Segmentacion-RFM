{
 "cells": [
  {
   "cell_type": "markdown",
   "id": "fede8b2c",
   "metadata": {},
   "source": [
    "# **Segmentación RFM con Python**"
   ]
  },
  {
   "cell_type": "code",
   "execution_count": 1,
   "id": "32828ea5",
   "metadata": {},
   "outputs": [],
   "source": [
    "import pandas as pd\n",
    "import numpy as np\n",
    "import matplotlib.pyplot as plt\n",
    "import seaborn as sns\n",
    "import plotly.express as px\n",
    "import datetime\n",
    "from datetime import datetime"
   ]
  },
  {
   "cell_type": "code",
   "execution_count": 2,
   "id": "985e9dd3",
   "metadata": {},
   "outputs": [
    {
     "data": {
      "text/html": [
       "<div>\n",
       "<style scoped>\n",
       "    .dataframe tbody tr th:only-of-type {\n",
       "        vertical-align: middle;\n",
       "    }\n",
       "\n",
       "    .dataframe tbody tr th {\n",
       "        vertical-align: top;\n",
       "    }\n",
       "\n",
       "    .dataframe thead th {\n",
       "        text-align: right;\n",
       "    }\n",
       "</style>\n",
       "<table border=\"1\" class=\"dataframe\">\n",
       "  <thead>\n",
       "    <tr style=\"text-align: right;\">\n",
       "      <th></th>\n",
       "      <th>Row ID</th>\n",
       "      <th>Order ID</th>\n",
       "      <th>Order Date</th>\n",
       "      <th>Ship Date</th>\n",
       "      <th>Ship Mode</th>\n",
       "      <th>Customer ID</th>\n",
       "      <th>Customer Name</th>\n",
       "      <th>Segment</th>\n",
       "      <th>Country</th>\n",
       "      <th>City</th>\n",
       "      <th>State</th>\n",
       "      <th>Postal Code</th>\n",
       "      <th>Region</th>\n",
       "      <th>Product ID</th>\n",
       "      <th>Category</th>\n",
       "      <th>Sub-Category</th>\n",
       "      <th>Product Name</th>\n",
       "      <th>Sales</th>\n",
       "    </tr>\n",
       "  </thead>\n",
       "  <tbody>\n",
       "    <tr>\n",
       "      <th>0</th>\n",
       "      <td>1</td>\n",
       "      <td>CA-2017-152156</td>\n",
       "      <td>08/11/2017</td>\n",
       "      <td>11/11/2017</td>\n",
       "      <td>Second Class</td>\n",
       "      <td>CG-12520</td>\n",
       "      <td>Claire Gute</td>\n",
       "      <td>Consumer</td>\n",
       "      <td>United States</td>\n",
       "      <td>Henderson</td>\n",
       "      <td>Kentucky</td>\n",
       "      <td>42420.0</td>\n",
       "      <td>South</td>\n",
       "      <td>FUR-BO-10001798</td>\n",
       "      <td>Furniture</td>\n",
       "      <td>Bookcases</td>\n",
       "      <td>Bush Somerset Collection Bookcase</td>\n",
       "      <td>261.9600</td>\n",
       "    </tr>\n",
       "    <tr>\n",
       "      <th>1</th>\n",
       "      <td>2</td>\n",
       "      <td>CA-2017-152156</td>\n",
       "      <td>08/11/2017</td>\n",
       "      <td>11/11/2017</td>\n",
       "      <td>Second Class</td>\n",
       "      <td>CG-12520</td>\n",
       "      <td>Claire Gute</td>\n",
       "      <td>Consumer</td>\n",
       "      <td>United States</td>\n",
       "      <td>Henderson</td>\n",
       "      <td>Kentucky</td>\n",
       "      <td>42420.0</td>\n",
       "      <td>South</td>\n",
       "      <td>FUR-CH-10000454</td>\n",
       "      <td>Furniture</td>\n",
       "      <td>Chairs</td>\n",
       "      <td>Hon Deluxe Fabric Upholstered Stacking Chairs,...</td>\n",
       "      <td>731.9400</td>\n",
       "    </tr>\n",
       "    <tr>\n",
       "      <th>2</th>\n",
       "      <td>3</td>\n",
       "      <td>CA-2017-138688</td>\n",
       "      <td>12/06/2017</td>\n",
       "      <td>16/06/2017</td>\n",
       "      <td>Second Class</td>\n",
       "      <td>DV-13045</td>\n",
       "      <td>Darrin Van Huff</td>\n",
       "      <td>Corporate</td>\n",
       "      <td>United States</td>\n",
       "      <td>Los Angeles</td>\n",
       "      <td>California</td>\n",
       "      <td>90036.0</td>\n",
       "      <td>West</td>\n",
       "      <td>OFF-LA-10000240</td>\n",
       "      <td>Office Supplies</td>\n",
       "      <td>Labels</td>\n",
       "      <td>Self-Adhesive Address Labels for Typewriters b...</td>\n",
       "      <td>14.6200</td>\n",
       "    </tr>\n",
       "    <tr>\n",
       "      <th>3</th>\n",
       "      <td>4</td>\n",
       "      <td>US-2016-108966</td>\n",
       "      <td>11/10/2016</td>\n",
       "      <td>18/10/2016</td>\n",
       "      <td>Standard Class</td>\n",
       "      <td>SO-20335</td>\n",
       "      <td>Sean O'Donnell</td>\n",
       "      <td>Consumer</td>\n",
       "      <td>United States</td>\n",
       "      <td>Fort Lauderdale</td>\n",
       "      <td>Florida</td>\n",
       "      <td>33311.0</td>\n",
       "      <td>South</td>\n",
       "      <td>FUR-TA-10000577</td>\n",
       "      <td>Furniture</td>\n",
       "      <td>Tables</td>\n",
       "      <td>Bretford CR4500 Series Slim Rectangular Table</td>\n",
       "      <td>957.5775</td>\n",
       "    </tr>\n",
       "    <tr>\n",
       "      <th>4</th>\n",
       "      <td>5</td>\n",
       "      <td>US-2016-108966</td>\n",
       "      <td>11/10/2016</td>\n",
       "      <td>18/10/2016</td>\n",
       "      <td>Standard Class</td>\n",
       "      <td>SO-20335</td>\n",
       "      <td>Sean O'Donnell</td>\n",
       "      <td>Consumer</td>\n",
       "      <td>United States</td>\n",
       "      <td>Fort Lauderdale</td>\n",
       "      <td>Florida</td>\n",
       "      <td>33311.0</td>\n",
       "      <td>South</td>\n",
       "      <td>OFF-ST-10000760</td>\n",
       "      <td>Office Supplies</td>\n",
       "      <td>Storage</td>\n",
       "      <td>Eldon Fold 'N Roll Cart System</td>\n",
       "      <td>22.3680</td>\n",
       "    </tr>\n",
       "  </tbody>\n",
       "</table>\n",
       "</div>"
      ],
      "text/plain": [
       "   Row ID        Order ID  Order Date   Ship Date       Ship Mode Customer ID  \\\n",
       "0       1  CA-2017-152156  08/11/2017  11/11/2017    Second Class    CG-12520   \n",
       "1       2  CA-2017-152156  08/11/2017  11/11/2017    Second Class    CG-12520   \n",
       "2       3  CA-2017-138688  12/06/2017  16/06/2017    Second Class    DV-13045   \n",
       "3       4  US-2016-108966  11/10/2016  18/10/2016  Standard Class    SO-20335   \n",
       "4       5  US-2016-108966  11/10/2016  18/10/2016  Standard Class    SO-20335   \n",
       "\n",
       "     Customer Name    Segment        Country             City       State  \\\n",
       "0      Claire Gute   Consumer  United States        Henderson    Kentucky   \n",
       "1      Claire Gute   Consumer  United States        Henderson    Kentucky   \n",
       "2  Darrin Van Huff  Corporate  United States      Los Angeles  California   \n",
       "3   Sean O'Donnell   Consumer  United States  Fort Lauderdale     Florida   \n",
       "4   Sean O'Donnell   Consumer  United States  Fort Lauderdale     Florida   \n",
       "\n",
       "   Postal Code Region       Product ID         Category Sub-Category  \\\n",
       "0      42420.0  South  FUR-BO-10001798        Furniture    Bookcases   \n",
       "1      42420.0  South  FUR-CH-10000454        Furniture       Chairs   \n",
       "2      90036.0   West  OFF-LA-10000240  Office Supplies       Labels   \n",
       "3      33311.0  South  FUR-TA-10000577        Furniture       Tables   \n",
       "4      33311.0  South  OFF-ST-10000760  Office Supplies      Storage   \n",
       "\n",
       "                                        Product Name     Sales  \n",
       "0                  Bush Somerset Collection Bookcase  261.9600  \n",
       "1  Hon Deluxe Fabric Upholstered Stacking Chairs,...  731.9400  \n",
       "2  Self-Adhesive Address Labels for Typewriters b...   14.6200  \n",
       "3      Bretford CR4500 Series Slim Rectangular Table  957.5775  \n",
       "4                     Eldon Fold 'N Roll Cart System   22.3680  "
      ]
     },
     "execution_count": 2,
     "metadata": {},
     "output_type": "execute_result"
    }
   ],
   "source": [
    "data = pd.read_csv(\"./../data/train.csv\")\n",
    "data.head()"
   ]
  },
  {
   "cell_type": "markdown",
   "id": "1164a962",
   "metadata": {},
   "source": [
    "### **Analizando el dataframe**"
   ]
  },
  {
   "cell_type": "code",
   "execution_count": 3,
   "id": "4a163d08",
   "metadata": {},
   "outputs": [
    {
     "name": "stdout",
     "output_type": "stream",
     "text": [
      "El dataframe tiene 9800 filas y 18 columnas.\n"
     ]
    }
   ],
   "source": [
    "print(f'El dataframe tiene {data.shape[0]} filas y {data.shape[1]} columnas.')"
   ]
  },
  {
   "cell_type": "code",
   "execution_count": 4,
   "id": "f798ba71",
   "metadata": {},
   "outputs": [
    {
     "name": "stdout",
     "output_type": "stream",
     "text": [
      "Valores nulos\n"
     ]
    },
    {
     "data": {
      "text/plain": [
       "Row ID            0\n",
       "Order ID          0\n",
       "Order Date        0\n",
       "Ship Date         0\n",
       "Ship Mode         0\n",
       "Customer ID       0\n",
       "Customer Name     0\n",
       "Segment           0\n",
       "Country           0\n",
       "City              0\n",
       "State             0\n",
       "Postal Code      11\n",
       "Region            0\n",
       "Product ID        0\n",
       "Category          0\n",
       "Sub-Category      0\n",
       "Product Name      0\n",
       "Sales             0\n",
       "dtype: int64"
      ]
     },
     "execution_count": 4,
     "metadata": {},
     "output_type": "execute_result"
    }
   ],
   "source": [
    "print(\"Valores nulos\")\n",
    "data.isnull().sum()"
   ]
  },
  {
   "cell_type": "code",
   "execution_count": 5,
   "id": "e28da00c",
   "metadata": {},
   "outputs": [
    {
     "name": "stdout",
     "output_type": "stream",
     "text": [
      "Columnas del dataset\n"
     ]
    },
    {
     "data": {
      "text/plain": [
       "Index(['Row ID', 'Order ID', 'Order Date', 'Ship Date', 'Ship Mode',\n",
       "       'Customer ID', 'Customer Name', 'Segment', 'Country', 'City', 'State',\n",
       "       'Postal Code', 'Region', 'Product ID', 'Category', 'Sub-Category',\n",
       "       'Product Name', 'Sales'],\n",
       "      dtype='object')"
      ]
     },
     "execution_count": 5,
     "metadata": {},
     "output_type": "execute_result"
    }
   ],
   "source": [
    "print(\"Columnas del dataset\")\n",
    "data.columns"
   ]
  },
  {
   "cell_type": "code",
   "execution_count": 6,
   "id": "6f00e1b0",
   "metadata": {},
   "outputs": [
    {
     "name": "stdout",
     "output_type": "stream",
     "text": [
      "Tipo de dato de las columnas\n"
     ]
    },
    {
     "data": {
      "text/plain": [
       "Row ID             int64\n",
       "Order ID          object\n",
       "Order Date        object\n",
       "Ship Date         object\n",
       "Ship Mode         object\n",
       "Customer ID       object\n",
       "Customer Name     object\n",
       "Segment           object\n",
       "Country           object\n",
       "City              object\n",
       "State             object\n",
       "Postal Code      float64\n",
       "Region            object\n",
       "Product ID        object\n",
       "Category          object\n",
       "Sub-Category      object\n",
       "Product Name      object\n",
       "Sales            float64\n",
       "dtype: object"
      ]
     },
     "execution_count": 6,
     "metadata": {},
     "output_type": "execute_result"
    }
   ],
   "source": [
    "print(\"Tipo de dato de las columnas\")\n",
    "data.dtypes"
   ]
  },
  {
   "cell_type": "code",
   "execution_count": 7,
   "id": "04aa390f",
   "metadata": {},
   "outputs": [],
   "source": [
    "# Convertir tipo de dato 'object' a datetime de las columnas 'Order Date' y 'Ship Date'\n",
    "data[\"Order Date\"] = pd.to_datetime(data[\"Order Date\"]).dt.strftime(\"%Y%m%d\")\n",
    "data[\"Ship Date\"] = pd.to_datetime(data[\"Ship Date\"]).dt.strftime(\"%Y%m%d\")"
   ]
  },
  {
   "cell_type": "code",
   "execution_count": 8,
   "id": "2928621b",
   "metadata": {},
   "outputs": [],
   "source": [
    "data[\"Order Month\"] = data[\"Order Date\"].apply(lambda x : x[:6])\n",
    "data[\"Ship Month\"] = data[\"Ship Date\"].apply(lambda x : x[:6])"
   ]
  },
  {
   "cell_type": "code",
   "execution_count": 9,
   "id": "2728dc6b",
   "metadata": {},
   "outputs": [],
   "source": [
    "data[\"Order Year\"] = data[\"Order Date\"].apply(lambda x : x[:4])"
   ]
  },
  {
   "cell_type": "markdown",
   "id": "dfc4b8e4",
   "metadata": {},
   "source": [
    "### **Análisis Exploratorio de Datos**"
   ]
  },
  {
   "cell_type": "code",
   "execution_count": 10,
   "id": "05502690",
   "metadata": {},
   "outputs": [
    {
     "data": {
      "image/png": "[encoded data removed]",
      "text/plain": [
       "<Figure size 1050x420 with 1 Axes>"
      ]
     },
     "metadata": {
      "needs_background": "light"
     },
     "output_type": "display_data"
    }
   ],
   "source": [
    "fig, ax = plt.subplots(figsize = (15,6), dpi = 70)\n",
    "pd.DataFrame(data.groupby(\"Order Month\")[\"Sales\"].sum()).plot(ax = ax, kind = 'bar')\n",
    "for i in ['bottom', 'left']:\n",
    "    ax.spines[i].set_color('black')\n",
    "    ax.spines[i].set_linewidth(1.5) \n",
    "right_side = ax.spines[\"right\"]\n",
    "right_side.set_visible(False)\n",
    "top_side = ax.spines[\"top\"]\n",
    "top_side.set_visible(False)\n",
    "ax.set_axisbelow(True)\n",
    "ax.grid(color='gray', linewidth=1, axis='y', alpha=0.4)\n",
    "plt.xlabel(\"Mes de la Orden\")\n",
    "plt.ylabel(\"Monto Total de Ventas\")\n",
    "plt.title(\"Evolución del monto mensual de ventas\", size = 16)\n",
    "plt.show()"
   ]
  },
  {
   "cell_type": "code",
   "execution_count": 11,
   "id": "0464bdf2",
   "metadata": {},
   "outputs": [
    {
     "data": {
      "image/svg+xml": [
       "<svg class=\"main-svg\" xmlns=\"http://www.w3.org/2000/svg\" xmlns:xlink=\"http://www.w3.org/1999/xlink\" width=\"700\" height=\"500\" style=\"\" viewBox=\"0 0 700 500\"><rect x=\"0\" y=\"0\" width=\"700\" height=\"500\" style=\"fill: rgb(255, 255, 255); fill-opacity: 1;\"/><defs id=\"defs-a3cc27\"><g class=\"clips\"/><g class=\"gradients\"/><g class=\"patterns\"/></defs><g class=\"bglayer\"/><g class=\"layer-below\"><g class=\"imagelayer\"/><g class=\"shapelayer\"/></g><g class=\"cartesianlayer\"/><g class=\"polarlayer\"/><g class=\"smithlayer\"/><g class=\"ternarylayer\"/><g class=\"geolayer\"/><g class=\"funnelarealayer\"/><g class=\"pielayer\"><g class=\"trace\" stroke-linejoin=\"round\" style=\"opacity: 1;\"><g class=\"slice\"><path class=\"surface\" d=\"M321,260l0,-160a160,160 0 1 1 -20.551908832048433,318.67456961769005Z\" style=\"pointer-events: none; stroke-width: 0; fill: rgb(99, 110, 250); fill-opacity: 1; stroke: rgb(68, 68, 68); stroke-opacity: 1;\"/><g class=\"slicetext\"><text data-notex=\"1\" class=\"slicetext\" transform=\"translate(400.77946178684215,269.64865105112)\" text-anchor=\"middle\" x=\"0\" y=\"0\" style=\"font-family: 'Open Sans', verdana, arial, sans-serif; font-size: 12px; fill: rgb(255, 255, 255); fill-opacity: 1; white-space: pre;\">52%</text></g></g><g class=\"slice\"><path class=\"surface\" d=\"M321,260l-151.76011578305352,50.683994095909554a160,160 0 0 1 151.76011578305352,-210.68399409590955Z\" style=\"pointer-events: none; stroke-width: 0; fill: rgb(239, 85, 59); fill-opacity: 1; stroke: rgb(68, 68, 68); stroke-opacity: 1;\"/><g class=\"slicetext\"><text data-notex=\"1\" class=\"slicetext\" transform=\"translate(249.26644242522852,212.87382857432553)\" text-anchor=\"middle\" x=\"0\" y=\"0\" style=\"font-family: 'Open Sans', verdana, arial, sans-serif; font-size: 12px; fill: rgb(68, 68, 68); fill-opacity: 1; white-space: pre;\">30.1%</text></g></g><g class=\"slice\"><path class=\"surface\" d=\"M321,260l-20.551908832048472,158.67456961769005a160,160 0 0 1 -131.20820695100505,-107.9905755217805Z\" style=\"pointer-events: none; stroke-width: 0; fill: rgb(0, 204, 150); fill-opacity: 1; stroke: rgb(68, 68, 68); stroke-opacity: 1;\"/><g class=\"slicetext\"><text data-notex=\"1\" class=\"slicetext\" transform=\"translate(254.52680551832847,345.18878328696087)\" text-anchor=\"middle\" x=\"0\" y=\"0\" style=\"font-family: 'Open Sans', verdana, arial, sans-serif; font-size: 12px; fill: rgb(68, 68, 68); fill-opacity: 1; white-space: pre;\">17.8%</text></g></g></g></g><g class=\"iciclelayer\"/><g class=\"treemaplayer\"/><g class=\"sunburstlayer\"/><g class=\"glimages\"/><defs id=\"topdefs-a3cc27\"><g class=\"clips\"/><clipPath id=\"legenda3cc27\"><rect width=\"116\" height=\"67\" x=\"0\" y=\"0\"/></clipPath></defs><g class=\"layer-above\"><g class=\"imagelayer\"/><g class=\"shapelayer\"/></g><g class=\"infolayer\"><g class=\"legend\" pointer-events=\"all\" transform=\"translate(571.64,100)\"><rect class=\"bg\" shape-rendering=\"crispEdges\" style=\"stroke: rgb(68, 68, 68); stroke-opacity: 1; fill: rgb(255, 255, 255); fill-opacity: 1; stroke-width: 0px;\" width=\"116\" height=\"67\" x=\"0\" y=\"0\"/><g class=\"scrollbox\" transform=\"\" clip-path=\"url(#legenda3cc27)\"><g class=\"groups\"><g class=\"traces\" transform=\"translate(0,14.5)\" style=\"opacity: 1;\"><text class=\"legendtext\" text-anchor=\"start\" x=\"40\" y=\"4.680000000000001\" style=\"font-family: 'Open Sans', verdana, arial, sans-serif; font-size: 12px; fill: rgb(42, 63, 95); fill-opacity: 1; white-space: pre;\">Consumer</text><g class=\"layers\" style=\"opacity: 1;\"><g class=\"legendfill\"/><g class=\"legendlines\"/><g class=\"legendsymbols\"><g class=\"legendpoints\"><path class=\"legendpie\" d=\"M6,6H-6V-6H6Z\" transform=\"translate(20,0)\" style=\"stroke-width: 0; fill: rgb(99, 110, 250); fill-opacity: 1; stroke: rgb(68, 68, 68); stroke-opacity: 1;\"/></g></g></g><rect class=\"legendtoggle\" x=\"0\" y=\"-9.5\" width=\"110.359375\" height=\"19\" style=\"fill: rgb(0, 0, 0); fill-opacity: 0;\"/></g><g class=\"traces\" transform=\"translate(0,33.5)\" style=\"opacity: 1;\"><text class=\"legendtext\" text-anchor=\"start\" x=\"40\" y=\"4.680000000000001\" style=\"font-family: 'Open Sans', verdana, arial, sans-serif; font-size: 12px; fill: rgb(42, 63, 95); fill-opacity: 1; white-space: pre;\">Corporate</text><g class=\"layers\" style=\"opacity: 1;\"><g class=\"legendfill\"/><g class=\"legendlines\"/><g class=\"legendsymbols\"><g class=\"legendpoints\"><path class=\"legendpie\" d=\"M6,6H-6V-6H6Z\" transform=\"translate(20,0)\" style=\"stroke-width: 0; fill: rgb(239, 85, 59); fill-opacity: 1; stroke: rgb(68, 68, 68); stroke-opacity: 1;\"/></g></g></g><rect class=\"legendtoggle\" x=\"0\" y=\"-9.5\" width=\"110.359375\" height=\"19\" style=\"fill: rgb(0, 0, 0); fill-opacity: 0;\"/></g><g class=\"traces\" transform=\"translate(0,52.5)\" style=\"opacity: 1;\"><text class=\"legendtext\" text-anchor=\"start\" x=\"40\" y=\"4.680000000000001\" style=\"font-family: 'Open Sans', verdana, arial, sans-serif; font-size: 12px; fill: rgb(42, 63, 95); fill-opacity: 1; white-space: pre;\">Home Office</text><g class=\"layers\" style=\"opacity: 1;\"><g class=\"legendfill\"/><g class=\"legendlines\"/><g class=\"legendsymbols\"><g class=\"legendpoints\"><path class=\"legendpie\" d=\"M6,6H-6V-6H6Z\" transform=\"translate(20,0)\" style=\"stroke-width: 0; fill: rgb(0, 204, 150); fill-opacity: 1; stroke: rgb(68, 68, 68); stroke-opacity: 1;\"/></g></g></g><rect class=\"legendtoggle\" x=\"0\" y=\"-9.5\" width=\"110.359375\" height=\"19\" style=\"fill: rgb(0, 0, 0); fill-opacity: 0;\"/></g></g></g><rect class=\"scrollbar\" rx=\"20\" ry=\"3\" width=\"0\" height=\"0\" style=\"fill: rgb(128, 139, 164); fill-opacity: 1;\" x=\"0\" y=\"0\"/></g><g class=\"g-gtitle\"><text class=\"gtitle\" x=\"70\" y=\"50\" text-anchor=\"start\" dy=\"0em\" style=\"font-family: 'Open Sans', verdana, arial, sans-serif; font-size: 14px; fill: rgb(42, 63, 95); opacity: 1; font-weight: normal; white-space: pre;\">Porcentaje de distribución de los consumidores por segmento</text></g></g></svg>"
      ]
     },
     "metadata": {},
     "output_type": "display_data"
    }
   ],
   "source": [
    "df1 = pd.DataFrame(data.groupby(\"Segment\")[\"Customer ID\"].count().apply(lambda x : round(x/len(data[\"Segment\"])*100,2)))\n",
    "fig = px.pie(df1, values = \"Customer ID\", names = df1.index,\n",
    "             title=\"Porcentaje de distribución de los consumidores por segmento\")\n",
    "fig.update_layout(title_font=dict(size=14), title_x=0.1)\n",
    "fig.show('svg')"
   ]
  },
  {
   "cell_type": "code",
   "execution_count": 12,
   "id": "5cb1c1a8",
   "metadata": {},
   "outputs": [
    {
     "data": {
      "image/png": "[encoded data removed]",
      "text/plain": [
       "<Figure size 560x420 with 1 Axes>"
      ]
     },
     "metadata": {
      "needs_background": "light"
     },
     "output_type": "display_data"
    }
   ],
   "source": [
    "df2 = pd.DataFrame(data.groupby(\"Order Year\")[\"Sales\"].sum().apply(lambda x : round(x,0)))\n",
    "fig, ax = plt.subplots(figsize = (8,6), dpi = 70)\n",
    "df2.plot(ax = ax, kind = 'bar')\n",
    "ax.bar_label(ax.containers[0], fontsize = 8.5)\n",
    "for i in ['bottom', 'left']:\n",
    "    ax.spines[i].set_color('black')\n",
    "    ax.spines[i].set_linewidth(1.5) \n",
    "right_side = ax.spines[\"right\"]\n",
    "right_side.set_visible(False)\n",
    "top_side = ax.spines[\"top\"]\n",
    "top_side.set_visible(False)\n",
    "ax.set_axisbelow(True)\n",
    "ax.grid(color='gray', linewidth=1, axis='y', alpha=0.4)\n",
    "plt.xlabel(\"Año de Orden\")\n",
    "plt.ylabel(\"Suma de Ventas\")\n",
    "plt.title(\"Evolución de las ventas totales por año\", size = 16)\n",
    "plt.show()"
   ]
  },
  {
   "cell_type": "code",
   "execution_count": 13,
   "id": "f797370c",
   "metadata": {},
   "outputs": [
    {
     "name": "stdout",
     "output_type": "stream",
     "text": [
      "¿Cuántos clientes únicos se encuentran en el dataset?\n",
      "793 clientes únicos.\n"
     ]
    }
   ],
   "source": [
    "print(\"¿Cuántos clientes únicos se encuentran en el dataset?\")\n",
    "print(f'{len(data[\"Customer ID\"].unique())} clientes únicos.')"
   ]
  },
  {
   "cell_type": "code",
   "execution_count": 14,
   "id": "b3626997",
   "metadata": {},
   "outputs": [],
   "source": [
    "data[\"Ship Date\"] = data[\"Ship Date\"].apply(lambda x : datetime.strptime(x, \"%Y%m%d\"))\n",
    "data[\"Order Date\"] = data[\"Order Date\"].apply(lambda x : datetime.strptime(x, \"%Y%m%d\"))"
   ]
  },
  {
   "cell_type": "code",
   "execution_count": 15,
   "id": "2bb8c053",
   "metadata": {},
   "outputs": [],
   "source": [
    "# Determinar la diferencia en días entre la fecha de entrega y la fecha de orden\n",
    "data[\"Diff Entrega\"] = (data[\"Ship Date\"] - data[\"Order Date\"]).dt.days"
   ]
  },
  {
   "cell_type": "code",
   "execution_count": 16,
   "id": "9b9feb37",
   "metadata": {},
   "outputs": [],
   "source": [
    "data_copy = data.copy()\n",
    "data_copy = data_copy[data_copy[\"Diff Entrega\"] >= 0]"
   ]
  },
  {
   "cell_type": "code",
   "execution_count": 17,
   "id": "daf2b03a",
   "metadata": {},
   "outputs": [
    {
     "data": {
      "image/png": "[encoded data removed]",
      "text/plain": [
       "<Figure size 1050x420 with 1 Axes>"
      ]
     },
     "metadata": {
      "needs_background": "light"
     },
     "output_type": "display_data"
    }
   ],
   "source": [
    "fig, ax = plt.subplots(figsize = (15,6), dpi = 70)\n",
    "data_copy.groupby(\"Order Date\")[\"Diff Entrega\"].mean().plot(ax = ax, color = 'orange', marker = 'o')\n",
    "for i in ['bottom', 'left']:\n",
    "    ax.spines[i].set_color('black')\n",
    "    ax.spines[i].set_linewidth(1.5) \n",
    "right_side = ax.spines[\"right\"]\n",
    "right_side.set_visible(False)\n",
    "top_side = ax.spines[\"top\"]\n",
    "top_side.set_visible(False)\n",
    "ax.set_axisbelow(True)\n",
    "ax.grid(color='gray', linewidth=1, axis='y', alpha=0.4)\n",
    "plt.xlabel(\"Mes de Orden\")\n",
    "plt.ylabel(\"Diferencial en días\")\n",
    "plt.title(\"Diferencial en días entre la fecha de entrega y orden\", size = 16)\n",
    "plt.show()"
   ]
  },
  {
   "cell_type": "markdown",
   "id": "e2c9eea2",
   "metadata": {},
   "source": [
    "## **Iniciar con la Segmentación RFM**"
   ]
  },
  {
   "cell_type": "code",
   "execution_count": 18,
   "id": "770539a6",
   "metadata": {},
   "outputs": [],
   "source": [
    "# Establecer una fecha de corte de análisis en función de la información en el dataset\n",
    "today = '20190115'\n",
    "today = datetime.strptime(today, \"%Y%m%d\")"
   ]
  },
  {
   "cell_type": "code",
   "execution_count": 42,
   "id": "d745f0f3",
   "metadata": {},
   "outputs": [
    {
     "data": {
      "text/html": [
       "<div>\n",
       "<style scoped>\n",
       "    .dataframe tbody tr th:only-of-type {\n",
       "        vertical-align: middle;\n",
       "    }\n",
       "\n",
       "    .dataframe tbody tr th {\n",
       "        vertical-align: top;\n",
       "    }\n",
       "\n",
       "    .dataframe thead th {\n",
       "        text-align: right;\n",
       "    }\n",
       "</style>\n",
       "<table border=\"1\" class=\"dataframe\">\n",
       "  <thead>\n",
       "    <tr style=\"text-align: right;\">\n",
       "      <th></th>\n",
       "      <th>Recency</th>\n",
       "      <th>Frequency</th>\n",
       "      <th>Monetary</th>\n",
       "    </tr>\n",
       "    <tr>\n",
       "      <th>Customer ID</th>\n",
       "      <th></th>\n",
       "      <th></th>\n",
       "      <th></th>\n",
       "    </tr>\n",
       "  </thead>\n",
       "  <tbody>\n",
       "    <tr>\n",
       "      <th>AA-10315</th>\n",
       "      <td>200</td>\n",
       "      <td>11</td>\n",
       "      <td>5563.560</td>\n",
       "    </tr>\n",
       "    <tr>\n",
       "      <th>AA-10375</th>\n",
       "      <td>64</td>\n",
       "      <td>15</td>\n",
       "      <td>1056.390</td>\n",
       "    </tr>\n",
       "    <tr>\n",
       "      <th>AA-10480</th>\n",
       "      <td>275</td>\n",
       "      <td>12</td>\n",
       "      <td>1790.512</td>\n",
       "    </tr>\n",
       "    <tr>\n",
       "      <th>AA-10645</th>\n",
       "      <td>249</td>\n",
       "      <td>18</td>\n",
       "      <td>5086.935</td>\n",
       "    </tr>\n",
       "    <tr>\n",
       "      <th>AB-10015</th>\n",
       "      <td>461</td>\n",
       "      <td>6</td>\n",
       "      <td>886.156</td>\n",
       "    </tr>\n",
       "    <tr>\n",
       "      <th>...</th>\n",
       "      <td>...</td>\n",
       "      <td>...</td>\n",
       "      <td>...</td>\n",
       "    </tr>\n",
       "    <tr>\n",
       "      <th>XP-21865</th>\n",
       "      <td>59</td>\n",
       "      <td>28</td>\n",
       "      <td>2374.658</td>\n",
       "    </tr>\n",
       "    <tr>\n",
       "      <th>YC-21895</th>\n",
       "      <td>20</td>\n",
       "      <td>8</td>\n",
       "      <td>5454.350</td>\n",
       "    </tr>\n",
       "    <tr>\n",
       "      <th>YS-21880</th>\n",
       "      <td>25</td>\n",
       "      <td>12</td>\n",
       "      <td>6720.444</td>\n",
       "    </tr>\n",
       "    <tr>\n",
       "      <th>ZC-21910</th>\n",
       "      <td>70</td>\n",
       "      <td>31</td>\n",
       "      <td>8025.707</td>\n",
       "    </tr>\n",
       "    <tr>\n",
       "      <th>ZD-21925</th>\n",
       "      <td>70</td>\n",
       "      <td>9</td>\n",
       "      <td>1493.944</td>\n",
       "    </tr>\n",
       "  </tbody>\n",
       "</table>\n",
       "<p>793 rows × 3 columns</p>\n",
       "</div>"
      ],
      "text/plain": [
       "             Recency  Frequency  Monetary\n",
       "Customer ID                              \n",
       "AA-10315         200         11  5563.560\n",
       "AA-10375          64         15  1056.390\n",
       "AA-10480         275         12  1790.512\n",
       "AA-10645         249         18  5086.935\n",
       "AB-10015         461          6   886.156\n",
       "...              ...        ...       ...\n",
       "XP-21865          59         28  2374.658\n",
       "YC-21895          20          8  5454.350\n",
       "YS-21880          25         12  6720.444\n",
       "ZC-21910          70         31  8025.707\n",
       "ZD-21925          70          9  1493.944\n",
       "\n",
       "[793 rows x 3 columns]"
      ]
     },
     "execution_count": 42,
     "metadata": {},
     "output_type": "execute_result"
    }
   ],
   "source": [
    "RFM = data.groupby('Customer ID').agg({\n",
    "    'Order Date': lambda x : (today - x.max()).days,\n",
    "    'Segment': lambda x: len(x),\n",
    "    'Sales' : lambda  x : x.sum()})\n",
    "RFM.columns = [\"Recency\", \"Frequency\", \"Monetary\"]\n",
    "RFM"
   ]
  },
  {
   "cell_type": "code",
   "execution_count": 43,
   "id": "5dfcd896",
   "metadata": {},
   "outputs": [],
   "source": [
    "RFM[\"R\"] = pd.qcut(RFM[\"Recency\"], 5, labels = [5,4,3,2,1])\n",
    "RFM[\"F\"] = pd.qcut(RFM[\"Frequency\"], 5, labels = [1,2,3,4,5])\n",
    "RFM[\"M\"] = pd.qcut(RFM[\"Monetary\"], 5, labels = [1,2,3,4,5])\n",
    "RFM[\"SCORE\"] = RFM[\"R\"].astype(str) + RFM[\"F\"].astype(str) + RFM[\"M\"].astype(str)"
   ]
  },
  {
   "cell_type": "code",
   "execution_count": 44,
   "id": "c98c1ab1",
   "metadata": {},
   "outputs": [],
   "source": [
    "RFM[\"R\"] = RFM[\"R\"].astype(int)\n",
    "RFM[\"F\"] = RFM[\"F\"].astype(int)"
   ]
  },
  {
   "cell_type": "code",
   "execution_count": 45,
   "id": "0089b597",
   "metadata": {},
   "outputs": [],
   "source": [
    "def SEGMENTATION(row):\n",
    "    if row[\"R\"] >= 1 and row[\"R\"] <= 2 and row[\"F\"] >= 1 and row[\"F\"] <= 2:\n",
    "        return 'Hibernating'\n",
    "    elif row[\"R\"] >= 1 and row[\"R\"] <= 2 and row[\"F\"] >= 3 and row[\"F\"] <= 4:\n",
    "        return 'At Risk'\n",
    "    elif row[\"R\"] >= 1 and row[\"R\"] <= 2 and row[\"F\"] == 5:\n",
    "        return 'Can\\'t looser'\n",
    "    elif row[\"R\"] >= 3 and row[\"F\"] <= 1 and row[\"F\"] == 2:\n",
    "        return 'About to sleep'\n",
    "    elif row[\"R\"] == 3 and row[\"F\"] == 3:\n",
    "        return 'Need attention'\n",
    "    elif row[\"R\"] >= 3 and row[\"R\"] <= 4 and row[\"F\"] >= 4 and row[\"F\"] <= 5:\n",
    "        return 'Loyal customers'\n",
    "    elif row[\"R\"] == 4 and row[\"F\"] == 1:\n",
    "        return 'Promising'\n",
    "    elif row[\"R\"] == 5 and row[\"F\"] == 1:\n",
    "        return 'New customers'\n",
    "    elif row[\"R\"] >= 4 and row[\"R\"] <= 5 and row[\"F\"] >= 2 and row[\"F\"] <= 3:\n",
    "        return 'Potential loyalists'\n",
    "    elif row[\"R\"] == 5 and row[\"F\"] >= 4 and row[\"F\"] <= 5:\n",
    "        return 'Champions'"
   ]
  },
  {
   "cell_type": "code",
   "execution_count": 46,
   "id": "6fed1e6e",
   "metadata": {},
   "outputs": [
    {
     "data": {
      "text/html": [
       "<div>\n",
       "<style scoped>\n",
       "    .dataframe tbody tr th:only-of-type {\n",
       "        vertical-align: middle;\n",
       "    }\n",
       "\n",
       "    .dataframe tbody tr th {\n",
       "        vertical-align: top;\n",
       "    }\n",
       "\n",
       "    .dataframe thead th {\n",
       "        text-align: right;\n",
       "    }\n",
       "</style>\n",
       "<table border=\"1\" class=\"dataframe\">\n",
       "  <thead>\n",
       "    <tr style=\"text-align: right;\">\n",
       "      <th></th>\n",
       "      <th>Recency</th>\n",
       "      <th>Frequency</th>\n",
       "      <th>Monetary</th>\n",
       "      <th>R</th>\n",
       "      <th>F</th>\n",
       "      <th>M</th>\n",
       "      <th>SCORE</th>\n",
       "      <th>Segment</th>\n",
       "    </tr>\n",
       "    <tr>\n",
       "      <th>Customer ID</th>\n",
       "      <th></th>\n",
       "      <th></th>\n",
       "      <th></th>\n",
       "      <th></th>\n",
       "      <th></th>\n",
       "      <th></th>\n",
       "      <th></th>\n",
       "      <th></th>\n",
       "    </tr>\n",
       "  </thead>\n",
       "  <tbody>\n",
       "    <tr>\n",
       "      <th>AA-10315</th>\n",
       "      <td>200</td>\n",
       "      <td>11</td>\n",
       "      <td>5563.560</td>\n",
       "      <td>2</td>\n",
       "      <td>3</td>\n",
       "      <td>5</td>\n",
       "      <td>235</td>\n",
       "      <td>At Risk</td>\n",
       "    </tr>\n",
       "    <tr>\n",
       "      <th>AA-10375</th>\n",
       "      <td>64</td>\n",
       "      <td>15</td>\n",
       "      <td>1056.390</td>\n",
       "      <td>4</td>\n",
       "      <td>4</td>\n",
       "      <td>2</td>\n",
       "      <td>442</td>\n",
       "      <td>Loyal customers</td>\n",
       "    </tr>\n",
       "    <tr>\n",
       "      <th>AA-10480</th>\n",
       "      <td>275</td>\n",
       "      <td>12</td>\n",
       "      <td>1790.512</td>\n",
       "      <td>2</td>\n",
       "      <td>3</td>\n",
       "      <td>3</td>\n",
       "      <td>233</td>\n",
       "      <td>At Risk</td>\n",
       "    </tr>\n",
       "    <tr>\n",
       "      <th>AA-10645</th>\n",
       "      <td>249</td>\n",
       "      <td>18</td>\n",
       "      <td>5086.935</td>\n",
       "      <td>2</td>\n",
       "      <td>5</td>\n",
       "      <td>5</td>\n",
       "      <td>255</td>\n",
       "      <td>Can't looser</td>\n",
       "    </tr>\n",
       "    <tr>\n",
       "      <th>AB-10015</th>\n",
       "      <td>461</td>\n",
       "      <td>6</td>\n",
       "      <td>886.156</td>\n",
       "      <td>1</td>\n",
       "      <td>1</td>\n",
       "      <td>1</td>\n",
       "      <td>111</td>\n",
       "      <td>Hibernating</td>\n",
       "    </tr>\n",
       "  </tbody>\n",
       "</table>\n",
       "</div>"
      ],
      "text/plain": [
       "             Recency  Frequency  Monetary  R  F  M SCORE          Segment\n",
       "Customer ID                                                              \n",
       "AA-10315         200         11  5563.560  2  3  5   235          At Risk\n",
       "AA-10375          64         15  1056.390  4  4  2   442  Loyal customers\n",
       "AA-10480         275         12  1790.512  2  3  3   233          At Risk\n",
       "AA-10645         249         18  5086.935  2  5  5   255     Can't looser\n",
       "AB-10015         461          6   886.156  1  1  1   111      Hibernating"
      ]
     },
     "execution_count": 46,
     "metadata": {},
     "output_type": "execute_result"
    }
   ],
   "source": [
    "\n",
    "# SEGMENTATION = {\n",
    "#     r'[1-2][1-2]': 'Hibernating',\n",
    "#     r'[1-2][3-4]': \"At risk\",\n",
    "#     r'[1-2]5': \"Can\\'t looser\",\n",
    "#     r'3[1-2]': \"About to sleep\",\n",
    "#     r'33': \"Need attention\",\n",
    "#     r'[3-4][4-5]': \"Loyal customers\",\n",
    "#     r'41': \"Promising\",\n",
    "#     r'51': \"New customers\",\n",
    "#     r'[4-5][2-3]': \"Potential Loyalists\",\n",
    "#     r'5[4-5]': \"Champions\"\n",
    "# }\n",
    "# RFM[\"Segment\"] = RFM[\"R\"].astype(str) + RFM[\"F\"].astype(str)\n",
    "# RFM[\"Segment\"] = RFM[\"Segment\"].replace(SEGMENTATION, regex = True)\n",
    "RFM[\"Segment\"] = RFM.apply(SEGMENTATION, axis = 1)\n",
    "RFM.head()"
   ]
  },
  {
   "cell_type": "code",
   "execution_count": 21,
   "id": "4439c3fa",
   "metadata": {},
   "outputs": [
    {
     "data": {
      "text/html": [
       "<div>\n",
       "<style scoped>\n",
       "    .dataframe tbody tr th:only-of-type {\n",
       "        vertical-align: middle;\n",
       "    }\n",
       "\n",
       "    .dataframe tbody tr th {\n",
       "        vertical-align: top;\n",
       "    }\n",
       "\n",
       "    .dataframe thead th {\n",
       "        text-align: right;\n",
       "    }\n",
       "</style>\n",
       "<table border=\"1\" class=\"dataframe\">\n",
       "  <thead>\n",
       "    <tr style=\"text-align: right;\">\n",
       "      <th></th>\n",
       "      <th>Recency</th>\n",
       "      <th>Frequency</th>\n",
       "      <th>Monetary</th>\n",
       "    </tr>\n",
       "    <tr>\n",
       "      <th>Segment</th>\n",
       "      <th></th>\n",
       "      <th></th>\n",
       "      <th></th>\n",
       "    </tr>\n",
       "  </thead>\n",
       "  <tbody>\n",
       "    <tr>\n",
       "      <th>Can't looser</th>\n",
       "      <td>279.742857</td>\n",
       "      <td>21.600000</td>\n",
       "      <td>5606.677123</td>\n",
       "    </tr>\n",
       "    <tr>\n",
       "      <th>Champions</th>\n",
       "      <td>29.368421</td>\n",
       "      <td>18.486842</td>\n",
       "      <td>4482.772488</td>\n",
       "    </tr>\n",
       "    <tr>\n",
       "      <th>Loyal customers</th>\n",
       "      <td>86.746377</td>\n",
       "      <td>19.405797</td>\n",
       "      <td>4226.339251</td>\n",
       "    </tr>\n",
       "    <tr>\n",
       "      <th>At risk</th>\n",
       "      <td>304.538462</td>\n",
       "      <td>13.375000</td>\n",
       "      <td>3255.038776</td>\n",
       "    </tr>\n",
       "    <tr>\n",
       "      <th>Potential Loyalists</th>\n",
       "      <td>47.917910</td>\n",
       "      <td>10.641791</td>\n",
       "      <td>2688.376887</td>\n",
       "    </tr>\n",
       "    <tr>\n",
       "      <th>Need attention</th>\n",
       "      <td>111.636364</td>\n",
       "      <td>12.000000</td>\n",
       "      <td>2230.843600</td>\n",
       "    </tr>\n",
       "    <tr>\n",
       "      <th>About to sleep</th>\n",
       "      <td>109.984848</td>\n",
       "      <td>7.030303</td>\n",
       "      <td>1535.824236</td>\n",
       "    </tr>\n",
       "    <tr>\n",
       "      <th>Hibernating</th>\n",
       "      <td>392.117978</td>\n",
       "      <td>6.735955</td>\n",
       "      <td>1421.023172</td>\n",
       "    </tr>\n",
       "    <tr>\n",
       "      <th>Promising</th>\n",
       "      <td>64.437500</td>\n",
       "      <td>5.000000</td>\n",
       "      <td>1075.917363</td>\n",
       "    </tr>\n",
       "    <tr>\n",
       "      <th>New customers</th>\n",
       "      <td>30.250000</td>\n",
       "      <td>5.708333</td>\n",
       "      <td>917.135867</td>\n",
       "    </tr>\n",
       "  </tbody>\n",
       "</table>\n",
       "</div>"
      ],
      "text/plain": [
       "                        Recency  Frequency     Monetary\n",
       "Segment                                                \n",
       "Can't looser         279.742857  21.600000  5606.677123\n",
       "Champions             29.368421  18.486842  4482.772488\n",
       "Loyal customers       86.746377  19.405797  4226.339251\n",
       "At risk              304.538462  13.375000  3255.038776\n",
       "Potential Loyalists   47.917910  10.641791  2688.376887\n",
       "Need attention       111.636364  12.000000  2230.843600\n",
       "About to sleep       109.984848   7.030303  1535.824236\n",
       "Hibernating          392.117978   6.735955  1421.023172\n",
       "Promising             64.437500   5.000000  1075.917363\n",
       "New customers         30.250000   5.708333   917.135867"
      ]
     },
     "execution_count": 21,
     "metadata": {},
     "output_type": "execute_result"
    }
   ],
   "source": [
    "RFM.groupby(\"Segment\").mean().sort_values(\"Monetary\", ascending = False)"
   ]
  },
  {
   "cell_type": "code",
   "execution_count": null,
   "id": "c373f1b3",
   "metadata": {},
   "outputs": [],
   "source": []
  }
 ],
 "metadata": {
  "kernelspec": {
   "display_name": "Python 3 (ipykernel)",
   "language": "python",
   "name": "python3"
  },
  "language_info": {
   "codemirror_mode": {
    "name": "ipython",
    "version": 3
   },
   "file_extension": ".py",
   "mimetype": "text/x-python",
   "name": "python",
   "nbconvert_exporter": "python",
   "pygments_lexer": "ipython3",
   "version": "3.9.7"
  }
 },
 "nbformat": 4,
 "nbformat_minor": 5
}
